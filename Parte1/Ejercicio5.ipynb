{
  "nbformat": 4,
  "nbformat_minor": 0,
  "metadata": {
    "colab": {
      "provenance": []
    },
    "kernelspec": {
      "name": "python3",
      "display_name": "Python 3"
    },
    "language_info": {
      "name": "python"
    }
  },
  "cells": [
    {
      "cell_type": "markdown",
      "source": [
        "# Ejercicio 5\n",
        "---\n",
        "Desarrollar un programa en Python que permita registrar los resultados de una prueba realizada a un grupo de estudiantes. El programa debe permitir ingresar el puntaje obtenido por cada alumno (el puntaje debe ser un número mayor que cero `(N>0)`).Ademas Se requiere que el programa sea capaz de manejar un número N de alumnos, donde N es mayor que cero`(puntaje>0)`.\n",
        "\n",
        "El programa debe proporcionar la siguiente información como salida:\n",
        "\n",
        "1. Imprimir \"Aprobado\" `si el puntaje del alumno es mayor a 50`. En caso contrario, imprimir \"Reprobado\".\n",
        "\n",
        "2. Mostrar `la cantidad total de alumnos que han aprobado ` la prueba.\n",
        "\n",
        "\n",
        "``"
      ],
      "metadata": {
        "id": "sgM72_Vs_Cur"
      }
    },
    {
      "cell_type": "code",
      "execution_count": null,
      "metadata": {
        "id": "juT4DXCN-7lh"
      },
      "outputs": [],
      "source": [
        "n = 0\n",
        "while True:\n",
        "  n = int(input(\"Ingrese cantidad de alumnos: \"))\n",
        "  if(n <= 0):\n",
        "    print(\"Error debe ingresar la cantidad de alumnos\")\n",
        "  else:\n",
        "    break\n",
        "\n",
        "cantidad_Aprobados = 0\n",
        "cantidad_Reprobados = 0\n",
        "\n",
        "for i in range (n):\n",
        "  puntaje = 0\n",
        "  while True:\n",
        "    puntaje = int(input(\"Ingrese cantidad de puntaje: \"))\n",
        "    if (puntaje <= 0):\n",
        "      print(f\"Error debe ser mayor a cero el puntaje {puntaje}\")\n",
        "    else:\n",
        "      break\n",
        "\n",
        "  if(puntaje > 50):\n",
        "    print(\"Aprobado\")\n",
        "    cantidad_Aprobados +=1\n",
        "  else:\n",
        "    print(\"Reprobado\")\n",
        "    cantidad_Reprobados +=1\n",
        "\n",
        "print(f\"Cantidad de aprobados son: {cantidad_Aprobados}\")\n",
        "print(f\"Cantidad de reprobados son: {cantidad_Reprobados}\")\n",
        "\n"
      ]
    }
  ]
}