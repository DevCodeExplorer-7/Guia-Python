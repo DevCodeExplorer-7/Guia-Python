{
  "nbformat": 4,
  "nbformat_minor": 0,
  "metadata": {
    "colab": {
      "provenance": []
    },
    "kernelspec": {
      "name": "python3",
      "display_name": "Python 3"
    },
    "language_info": {
      "name": "python"
    }
  },
  "cells": [
    {
      "cell_type": "markdown",
      "source": [
        "# Ejercicio 3\n",
        "---\n",
        "A un trabajador le pagan según sus horas trabajadas, confeccione un\n",
        "programa principal que `calcule el sueldo del trabajador, para ello debe\n",
        "solicitar ingresar la cantidad de horas trabajadas y la tarifa por hora.`\n",
        "`Las horas trabajadas la debe “pasar” a un método para que calcule y\n",
        "devuelva al programa principal la cantidad de horas extras`, si existen,\n",
        "considerando que:\n",
        "\n",
        "Si la cantidad de horas trabajadas es mayor a 40 horas, las 40 horas se\n",
        "pagan al valor de la tarifa normal y las horas extras a una tarifa\n",
        "aumentada en un 30%.\n",
        "En caso que no sobrepase las 40 horas, al trabajador se le pagan las\n",
        "horas trabajadas al valor normal de la tarifa.\n",
        "\n",
        "``"
      ],
      "metadata": {
        "id": "nk4yAIVWa7wG"
      }
    },
    {
      "cell_type": "code",
      "execution_count": null,
      "metadata": {
        "id": "XZBxyVbYaD5u"
      },
      "outputs": [],
      "source": [
        "# Creamos una función\n",
        "def calcular_hora_extras(cantidad_horas_trabajadas):\n",
        "  if cantidad_horas_trabajadas > 40:\n",
        "    return cantidad_horas_trabajadas - 40\n",
        "  else:\n",
        "    return 0\n",
        "\n",
        "# Creamos las variables\n",
        "cantidad_horas = 0\n",
        "tarifa = 0\n",
        "\n",
        "# Ingreso de los Datos\n",
        "cantidad_horas = int(input(\"Ingrese la cantidad de horas trabajadas: \"))\n",
        "tarifa = float(input(\"Ingrese la tarifa por hora: \"))\n",
        "\n",
        "#calculo de las horas extras con 30%\n",
        "horas_extras = calcular_hora_extras(cantidad_horas)\n",
        "pago_extras = horas_extras * (tarifa * 1.3)  # Aumentamos la tarifa en un 30% para las horas extras\n",
        "\n",
        "# Calculamos el pago total\n",
        "pago_total = cantidad_horas * tarifa + pago_extras\n",
        "\n",
        "print(f\"Su pago por horas trabajadas es: {cantidad_horas * tarifa}\")\n",
        "print(f\"Su pago por horas extras es: {pago_extras}\")\n",
        "print(f\"Su pago total es: {pago_total}\")\n"
      ]
    }
  ]
}