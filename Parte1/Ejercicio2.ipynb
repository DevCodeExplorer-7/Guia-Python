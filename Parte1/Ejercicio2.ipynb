{
  "nbformat": 4,
  "nbformat_minor": 0,
  "metadata": {
    "colab": {
      "provenance": []
    },
    "kernelspec": {
      "name": "python3",
      "display_name": "Python 3"
    },
    "language_info": {
      "name": "python"
    }
  },
  "cells": [
    {
      "cell_type": "markdown",
      "source": [
        "# Ejercicio 2\n",
        "---\n",
        "\"Crear un programa que verifica si una contraseña es correcta. Para hacerlo, el programa principal te pedirá que ingreses una contraseña. Luego, esa contraseña será enviada al método llamado `'valida_clave'` para comprobar si es igual a la palabra `'ACI221481'`. Si la contraseña ingresada y la palabra clave son iguales, el método devolverá `'true'`. En caso contrario, devolverá `'false'`.\n",
        "\n",
        "Desde el programa principal, mostrará un mensaje de '`clave aceptada' si el valor devuelto es 'true' o 'clave rechazada' si el valor devuelto es 'false'`.\"\n"
      ],
      "metadata": {
        "id": "Abqy16DmbWKc"
      }
    },
    {
      "cell_type": "code",
      "execution_count": null,
      "metadata": {
        "id": "VZL2lWYfacmo"
      },
      "outputs": [],
      "source": [
        "contra_valida = \"ACI221481\"\n",
        "\n",
        "def valida_clave(contra):\n",
        "  if contra == contra_valida:\n",
        "    return True\n",
        "  else:\n",
        "    return False\n",
        "\n",
        "contra = input(\"Ingrese su contraseña: \")\n",
        "\n",
        "validacion = valida_clave(contra)\n",
        "\n",
        "if validacion == True:\n",
        "  print(f\"Clave Aceptada: {contra}\")\n",
        "else:\n",
        "  print(f\"Clave incorrecta: {contra}\")\n",
        "\n"
      ]
    }
  ]
}