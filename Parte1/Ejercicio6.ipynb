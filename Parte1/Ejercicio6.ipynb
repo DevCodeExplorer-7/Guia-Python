{
  "nbformat": 4,
  "nbformat_minor": 0,
  "metadata": {
    "colab": {
      "provenance": []
    },
    "kernelspec": {
      "name": "python3",
      "display_name": "Python 3"
    },
    "language_info": {
      "name": "python"
    }
  },
  "cells": [
    {
      "cell_type": "markdown",
      "source": [
        "#Ejercicio 6\n",
        "---\n",
        "Una compañía aseguradora ofrece cobertura a través de sus seguros, presentando los siguientes planes:\n",
        "\n",
        "- Tipo Plan F (Familiar): UF 4 de costo de mantenimiento + UF 2 por cada año contratado.\n",
        "- Tipo Plan P (Personal): UF 3 de costo de mantenimiento + UF 4 por cada año contratado.\n",
        "---\n",
        "Se requiere desarrollar un programa en Python que permita ingresar como datos de entrada el tipo de plan (F o P) y los años a contratar (número de años mayor que cero) para una cantidad determinada de clientes (N, donde N es mayor que cero).\n",
        "\n",
        "El programa debe proporcionar la siguiente información como salida:\n",
        "\n",
        "- Imprimir, para cada cliente ingresado, el monto total a pagar según el plan y la duración del contrato en años.\n",
        "- Mostrar el total de clientes por tipo de plan."
      ],
      "metadata": {
        "id": "zFqeY50ZX0g2"
      }
    },
    {
      "cell_type": "code",
      "execution_count": null,
      "metadata": {
        "id": "2G1KY8L8W6X-"
      },
      "outputs": [],
      "source": [
        "n = 0\n",
        "while True:\n",
        "  n = int(input(\"Ingrese cantidad de clientes: \"))\n",
        "  if(n <= 0):\n",
        "    print(f\"Error debe ingresar una cantidad valida: {n}\")\n",
        "  else:\n",
        "    break\n",
        "\n",
        "# Inicializar los contadores\n",
        "cantidad_PlanF = 0\n",
        "cantidad_PlanP = 0\n",
        "costo_total=0\n",
        "for i in range (n):\n",
        "  plan = \"\"\n",
        "   # Validar años contratados mayores que cero\n",
        "  while True:\n",
        "      años_Contrato = int(input(\"Ingrese años de contrato: \"))\n",
        "      if(años_Contrato <= 0):\n",
        "        print(f\"Error debe ingresar los años de contrato: {años_Contrato}\")\n",
        "      else:\n",
        "        break\n",
        "\n",
        "#Ingreso de datos de plan P o F\n",
        "plan = input(\"Ingrese su tipo de plan P o F: \").upper()\n",
        "if(plan == \"F\"):\n",
        "  cantidad_PlanF +=1\n",
        "  costo_total = 1 + 3 * años_Contrato\n",
        "  print(f\"Costo del plan del cliente es: {costo_total}\")\n",
        "elif(plan == \"P\"):\n",
        "  cantidad_PlanP +=1\n",
        "  costo_total = 3 + 4 * años_Contrato\n",
        "  print(f\"Costo del plan del cliente es: {costo_total}\")\n",
        "else:\n",
        "  print(f\"No Ingreso ningun Plan sin costo total: {costo_total}\")\n",
        "\n",
        "#Imprimir la cantidad de plan\n",
        "print(f\"La cantidad de plan F: {cantidad_PlanF}\")\n",
        "print(f\"La cantidad de plan P: {cantidad_PlanP}\")"
      ]
    },
    {
      "cell_type": "markdown",
      "source": [
        "# Otra Forma de hacerlo"
      ],
      "metadata": {
        "id": "8I7c3R5io6Xi"
      }
    },
    {
      "cell_type": "code",
      "source": [
        "def calcular_costo_plan(tipo_plan, anos_contrato):\n",
        "    if tipo_plan == 'F':\n",
        "        costo_total = 4 + 2 * anos_contrato\n",
        "    elif tipo_plan == 'P':\n",
        "        costo_total = 3 + 4 * anos_contrato\n",
        "    else:\n",
        "        costo_total = 0  # Si el tipo de plan no es válido, el costo será cero\n",
        "    return costo_total\n",
        "\n",
        "# Inicializar contadores\n",
        "clientes_plan_F = 0\n",
        "clientes_plan_P = 0\n",
        "\n",
        "# Solicitar la cantidad de clientes\n",
        "N = int(input(\"Ingrese la cantidad de clientes: \"))\n",
        "\n",
        "for i in range(N):\n",
        "    tipo_plan = input(f\"Ingrese el tipo de plan para el cliente {i + 1} (F o P): \").upper()\n",
        "    anos_contrato = int(input(f\"Ingrese los años a contratar para el cliente {i + 1}: \"))\n",
        "\n",
        "    # Validar años contratados mayores que cero\n",
        "    while anos_contrato <= 0:\n",
        "        anos_contrato = int(input(\"Por favor, ingrese un número de años mayor que cero: \"))\n",
        "\n",
        "    costo_cliente = calcular_costo_plan(tipo_plan, anos_contrato)\n",
        "\n",
        "    # Imprimir el total a pagar por el cliente\n",
        "    print(f\"Cliente {i + 1} - Total a pagar: {costo_cliente} UF\")\n",
        "\n",
        "    # Contar el número de clientes por tipo de plan\n",
        "    if tipo_plan == 'F':\n",
        "        clientes_plan_F += 1\n",
        "    elif tipo_plan == 'P':\n",
        "        clientes_plan_P += 1\n",
        "\n",
        "# Imprimir el total de clientes por plan\n",
        "print(f\"Total de clientes Plan F: {clientes_plan_F}\")\n",
        "print(f\"Total de clientes Plan P: {clientes_plan_P}\")\n"
      ],
      "metadata": {
        "id": "VbCHzuZqo9sl"
      },
      "execution_count": null,
      "outputs": []
    }
  ]
}