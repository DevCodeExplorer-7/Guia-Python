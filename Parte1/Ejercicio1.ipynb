{
  "nbformat": 4,
  "nbformat_minor": 0,
  "metadata": {
    "colab": {
      "provenance": []
    },
    "kernelspec": {
      "name": "python3",
      "display_name": "Python 3"
    },
    "language_info": {
      "name": "python"
    }
  },
  "cells": [
    {
      "cell_type": "markdown",
      "source": [
        "# Ejercicio 1\n",
        "---\n",
        "\"Crea un programa en el que puedas ingresar 5 notas y sus respectivas ponderaciones para un alumno. Luego, estas notas y ponderaciones deben ser enviadas a una función que calculará la multiplicación de la nota por la ponderación y te devolverá el resultado. Finalmente, en el programa principal, suma todos los resultados para mostrar el promedio del alumno.\"\n"
      ],
      "metadata": {
        "id": "YA4ulh5rWSMM"
      }
    },
    {
      "cell_type": "markdown",
      "source": [
        "# Solucion 1: Uso de While"
      ],
      "metadata": {
        "id": "LEQj5OrhYyVL"
      }
    },
    {
      "cell_type": "code",
      "execution_count": null,
      "metadata": {
        "id": "psetx30cWP3I"
      },
      "outputs": [],
      "source": [
        "# Ejercicio 1\n",
        "def calcularNota(nota1, nota2, nota3, nota4, nota5, ponderacion1, ponderacion2, ponderacion3, ponderacion4, ponderacion5):\n",
        "    notaFinal = (nota1 * ponderacion1 + nota2 * ponderacion2 + nota3 * ponderacion3 + nota4 * ponderacion4 + nota5 * ponderacion5) / 100\n",
        "    return notaFinal\n",
        "\n",
        "\n",
        "menu = \"\"\"\n",
        "    **** Calculo de notas ****\n",
        "    1. Ingresar Nota 1\n",
        "    2. Ingresar Nota 2\n",
        "    3. Ingresar Nota 3\n",
        "    4. Ingresar Nota 4\n",
        "    5. Ingresar Nota 5\n",
        "    6. Calcular Nota Final\n",
        "    7. Salir\n",
        "    \"\"\"\n",
        "\n",
        "opcion = 0\n",
        "nota1, nota2, nota3, nota4, nota5 = 0, 0, 0, 0, 0\n",
        "ponderacion1, ponderacion2, ponderacion3, ponderacion4, ponderacion5 = 0, 0, 0, 0, 0\n",
        "\n",
        "while opcion != 7:\n",
        "    print(menu)\n",
        "    opcion = int(input(\"Ingrese una opcion: \"))\n",
        "\n",
        "    if opcion == 1:\n",
        "        nota1 = float(input(\"Ingrese la nota 1: \"))\n",
        "        ponderacion1 = float(input(\"Ingrese la ponderacion 1: \"))\n",
        "    elif opcion == 2:\n",
        "        nota2 = float(input(\"Ingrese la nota 2: \"))\n",
        "        ponderacion2 = float(input(\"Ingrese la ponderacion 2: \"))\n",
        "    elif opcion == 3:\n",
        "        nota3 = float(input(\"Ingrese la nota 3: \"))\n",
        "        ponderacion3 = float(input(\"Ingrese la ponderacion 3: \"))\n",
        "    elif opcion == 4:\n",
        "        nota4 = float(input(\"Ingrese la nota 4: \"))\n",
        "        ponderacion4 = float(input(\"Ingrese la ponderacion 4: \"))\n",
        "    elif opcion == 5:\n",
        "        nota5 = float(input(\"Ingrese la nota 5: \"))\n",
        "        ponderacion5 = float(input(\"Ingrese la ponderacion 5: \"))\n",
        "    elif opcion == 6:\n",
        "        notaFinal = calcularNota(nota1, nota2, nota3, nota4, nota5, ponderacion1, ponderacion2, ponderacion3, ponderacion4, ponderacion5)\n",
        "        print(f\"La nota final es: {notaFinal}\")\n",
        "    elif opcion == 7:\n",
        "        print(\"Saliendo del programa...\")\n",
        "    else:\n",
        "        print(f\"Opción incorrecta: {opcion}\")\n",
        "\n",
        "\n"
      ]
    },
    {
      "cell_type": "markdown",
      "source": [
        "# Solucion 2: Uso de For"
      ],
      "metadata": {
        "id": "zuCOblZSY6RE"
      }
    },
    {
      "cell_type": "code",
      "source": [
        "# Ejericio 1: Calcular la nota final de un estudiante de programación.\n",
        "def calcular(notas, ponderacion):\n",
        "    notaFinal = 0\n",
        "    for i in range(5):\n",
        "        notaFinal += notas[i] * ponderacion[i]\n",
        "    return notaFinal / 100\n",
        "\n",
        "notas = []\n",
        "ponderacion = []\n",
        "\n",
        "for i in range(1, 6):\n",
        "    nota = float(input(f\"Ingrese la nota {i}: \"))\n",
        "    ponder = float(input(f\"Ingrese la ponderación {i}: \"))\n",
        "    notas.append(nota)\n",
        "    ponderacion.append(ponder)\n",
        "\n",
        "notaFinal = calcular(notas, ponderacion)\n",
        "print(f\"La nota final es: {notaFinal}\")\n"
      ],
      "metadata": {
        "id": "AzmhTDE1ZKu0"
      },
      "execution_count": null,
      "outputs": []
    }
  ]
}